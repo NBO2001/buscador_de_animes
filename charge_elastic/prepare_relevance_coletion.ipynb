{
 "cells": [
  {
   "cell_type": "code",
   "execution_count": 1,
   "metadata": {},
   "outputs": [],
   "source": [
    "with open(\"../backend/logging/search.log\", \"r\") as f, open(\"pre_file.csv\", \"w\") as f2:\n",
    "    for line_ in f.readlines():\n",
    "        try:\n",
    "            time, event, query, documents_ = line_.split(\";\")\n",
    "            time, event, query, documents_ = time, event.strip(), query.strip(), documents_.strip()\n",
    "            if event == \"Search.viewed\":\n",
    "                documents = documents_.split(\"|\")\n",
    "\n",
    "                for document in documents:\n",
    "                    f2.write(f\"{query},{document},1,0\\n\")\n",
    "            else:\n",
    "                f2.write(f\"{query},{documents_},0,1\\n\")\n",
    "        except:\n",
    "            print(\"error\", line_)"
   ]
  },
  {
   "cell_type": "code",
   "execution_count": 2,
   "metadata": {},
   "outputs": [],
   "source": [
    "!sort -t ',' -k 1n pre_file.csv > pre_file_sorted.csv"
   ]
  },
  {
   "cell_type": "code",
   "execution_count": 3,
   "metadata": {},
   "outputs": [],
   "source": [
    "!rm pre_file.csv"
   ]
  },
  {
   "cell_type": "code",
   "execution_count": 4,
   "metadata": {},
   "outputs": [],
   "source": [
    "now_q = \"\"\n",
    "now_d = \"\"\n",
    "\n",
    "v_c = (0,0)\n",
    "\n",
    "first = True\n",
    "\n",
    "with open(\"pre_file_sorted.csv\", \"r\") as f3, open(\"features_file.csv\", \"w\") as f4:\n",
    "    for line_ in f3.readlines():\n",
    "        try:\n",
    "            list_all = [x.strip() for x in line_.split(\",\")]\n",
    "\n",
    "            click, view, document = list_all.pop(),list_all.pop(),list_all.pop()\n",
    "            query = \",\".join(list_all)\n",
    "\n",
    "            if first:\n",
    "                now_q = query\n",
    "                now_d = document\n",
    "                v_c = (int(view),int(click))\n",
    "                first = False\n",
    "\n",
    "            if (now_q, now_d) != (query,document):\n",
    "                f4.write(f\"{now_q},{now_d},{v_c[0]},{v_c[1]}\\n\")\n",
    "                now_q = query\n",
    "                now_d = document\n",
    "                v_c = (int(view),int(click))\n",
    "            else:\n",
    "                v_c = (v_c[0] + int(view), v_c[1] + int(click))\n",
    "        except:\n",
    "            print(\"error\", line_)"
   ]
  },
  {
   "cell_type": "code",
   "execution_count": 5,
   "metadata": {},
   "outputs": [],
   "source": [
    "import numpy as np\n",
    "with open(\"features_file.csv\", \"r\") as f5, open(\"reference_colletion.csv\", \"w\") as f6:\n",
    "\n",
    "    f6.write(f\"query,document,label\\n\")\n",
    "\n",
    "    for line_ in f5.readlines():\n",
    "\n",
    "        list_all = [x.strip() for x in line_.split(\",\")]\n",
    "\n",
    "        click, view, document = list_all.pop(),list_all.pop(),list_all.pop()\n",
    "        query = \" \".join(list_all)\n",
    "\n",
    "        view, click = int(view), int(click)\n",
    "        prior_a = 5\n",
    "        prior_b = 25\n",
    "        posterior_a = click+prior_a\n",
    "        posterior_b = prior_b+(view-click)\n",
    "        label = np.round(((posterior_a  / (posterior_b+posterior_a))*32)).astype(\"int\")\n",
    "        f6.write(f\"{query},{document},{label}\\n\")"
   ]
  }
 ],
 "metadata": {
  "kernelspec": {
   "display_name": "ia_jobis",
   "language": "python",
   "name": "python3"
  },
  "language_info": {
   "codemirror_mode": {
    "name": "ipython",
    "version": 3
   },
   "file_extension": ".py",
   "mimetype": "text/x-python",
   "name": "python",
   "nbconvert_exporter": "python",
   "pygments_lexer": "ipython3",
   "version": "3.12.2"
  }
 },
 "nbformat": 4,
 "nbformat_minor": 2
}
