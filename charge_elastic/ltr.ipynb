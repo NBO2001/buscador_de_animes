{
 "cells": [
  {
   "cell_type": "code",
   "execution_count": 1,
   "metadata": {},
   "outputs": [],
   "source": [
    "import csv\n",
    "import os\n",
    "from dotenv import load_dotenv\n",
    "from elasticsearch import Elasticsearch\n",
    "from pprint import pprint\n",
    "\n",
    "# Load environment variables from .env file\n",
    "load_dotenv()\n",
    "\n",
    "ELASTICSEARCH_HOST = os.getenv(\"ELASTICSEARCH_HOST\", \"localhost\")\n",
    "ELASTICSEARCH_PORT = int(os.getenv(\"ELASTICSEARCH_PORT\", \"9200\"))\n",
    "ELASTICSEARCH_USERNAME = os.getenv(\"ELASTICSEARCH_USERNAME\")\n",
    "ELASTICSEARCH_PASSWORD = os.getenv(\"ELASTICSEARCH_PASSWORD\")\n",
    "\n",
    "es_client = Elasticsearch(\n",
    "            hosts=[{\n",
    "                \"host\": ELASTICSEARCH_HOST,\n",
    "                \"port\": ELASTICSEARCH_PORT,\n",
    "                \"scheme\": \"http\"\n",
    "            }],\n",
    "            basic_auth=(ELASTICSEARCH_USERNAME, ELASTICSEARCH_PASSWORD)\n",
    "        )"
   ]
  },
  {
   "cell_type": "code",
   "execution_count": 2,
   "metadata": {},
   "outputs": [
    {
     "data": {
      "text/plain": [
       "'Successfully connected to cluster my-cluster (version 8.1.0)'"
      ]
     },
     "execution_count": 2,
     "metadata": {},
     "output_type": "execute_result"
    }
   ],
   "source": [
    "client_info = es_client.info()\n",
    "\n",
    "f\"Successfully connected to cluster {client_info['cluster_name']} (version {client_info['version']['number']})\""
   ]
  },
  {
   "cell_type": "code",
   "execution_count": 3,
   "metadata": {},
   "outputs": [
    {
     "ename": "ModuleNotFoundError",
     "evalue": "No module named 'eland'",
     "output_type": "error",
     "traceback": [
      "\u001b[0;31m---------------------------------------------------------------------------\u001b[0m",
      "\u001b[0;31mModuleNotFoundError\u001b[0m                       Traceback (most recent call last)",
      "Cell \u001b[0;32mIn[3], line 1\u001b[0m\n\u001b[0;32m----> 1\u001b[0m \u001b[38;5;28;01mfrom\u001b[39;00m \u001b[38;5;21;01meland\u001b[39;00m\u001b[38;5;21;01m.\u001b[39;00m\u001b[38;5;21;01mml\u001b[39;00m\u001b[38;5;21;01m.\u001b[39;00m\u001b[38;5;21;01mltr\u001b[39;00m \u001b[38;5;28;01mimport\u001b[39;00m LTRModelConfig, QueryFeatureExtractor\n",
      "\u001b[0;31mModuleNotFoundError\u001b[0m: No module named 'eland'"
     ]
    }
   ],
   "source": [
    "from eland.ml.ltr import LTRModelConfig, QueryFeatureExtractor\n",
    "\n",
    "index_name = \"anime\""
   ]
  }
 ],
 "metadata": {
  "kernelspec": {
   "display_name": "ia_jobis",
   "language": "python",
   "name": "python3"
  },
  "language_info": {
   "codemirror_mode": {
    "name": "ipython",
    "version": 3
   },
   "file_extension": ".py",
   "mimetype": "text/x-python",
   "name": "python",
   "nbconvert_exporter": "python",
   "pygments_lexer": "ipython3",
   "version": "3.12.2"
  }
 },
 "nbformat": 4,
 "nbformat_minor": 2
}
